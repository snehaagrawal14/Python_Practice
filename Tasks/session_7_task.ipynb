{
  "nbformat": 4,
  "nbformat_minor": 0,
  "metadata": {
    "colab": {
      "provenance": [],
      "include_colab_link": true
    },
    "kernelspec": {
      "name": "python3",
      "display_name": "Python 3"
    },
    "language_info": {
      "name": "python"
    }
  },
  "cells": [
    {
      "cell_type": "markdown",
      "metadata": {
        "id": "view-in-github",
        "colab_type": "text"
      },
      "source": [
        "<a href=\"https://colab.research.google.com/github/snehaagrawal14/Python_Practice/blob/main/Tasks/session_7_task.ipynb\" target=\"_parent\"><img src=\"https://colab.research.google.com/assets/colab-badge.svg\" alt=\"Open In Colab\"/></a>"
      ]
    },
    {
      "cell_type": "markdown",
      "source": [
        "##`Q-1:` Rectangle Class\n",
        "1. Write a Rectangle class in Python language, allowing you to build a rectangle with length and width attributes.\n",
        "\n",
        "2. Create a Perimeter() method to calculate the perimeter of the rectangle and a Area() method to calculate the area of ​​the rectangle.\n",
        "\n",
        "3. Create a method display() that display the length, width, perimeter and area of an object created using an instantiation on rectangle class."
      ],
      "metadata": {
        "id": "FyUJ3PRAsPr4"
      }
    },
    {
      "cell_type": "markdown",
      "source": [
        "Eg.\n",
        "After making above classes and methods, on executing below code:-\n",
        "```\n",
        "my_rectangle = Rectangle(3 , 4)\n",
        "my_rectangle.display()\n",
        "```\n",
        "\n",
        "`Output:`\n",
        "```\n",
        "The length of rectangle is:  3\n",
        "The width of rectangle is:  4\n",
        "The perimeter of rectangle is:  14\n",
        "The area of rectangle is:  12\n",
        "```\n"
      ],
      "metadata": {
        "id": "GxUtOqJfssFK"
      }
    },
    {
      "cell_type": "code",
      "source": [
        "# write your code here\n",
        "class Rectangle:\n",
        "  # constructor\n",
        "  def __init__(self, l, w):\n",
        "    self.__length = l\n",
        "    self.__width = w\n",
        "\n",
        "  # methods\n",
        "  def __Perimeter(self):\n",
        "    return 2*(self.__length + self.__width)\n",
        "\n",
        "  def __Area(self):\n",
        "    return self.__length * self.__width\n",
        "\n",
        "  def display(self):\n",
        "    print(\"\"\"\n",
        "    The length of rectangle is: {}\n",
        "    The width of rectangle is: {}\n",
        "    The perimeter of rectangle is: {}\n",
        "    The area of rectangle is: {}\n",
        "    \"\"\".format(self.__length, self.__width, self.__Perimeter(), self.__Area()))"
      ],
      "metadata": {
        "id": "92_QT-Uj6NBg"
      },
      "execution_count": null,
      "outputs": []
    },
    {
      "cell_type": "code",
      "source": [
        "my_rectangle = Rectangle(3 , 4)\n",
        "my_rectangle.display()"
      ],
      "metadata": {
        "colab": {
          "base_uri": "https://localhost:8080/"
        },
        "id": "EvhwX6CCbXaG",
        "outputId": "e6292b65-cf0b-4095-b9a6-66557ece0876"
      },
      "execution_count": null,
      "outputs": [
        {
          "output_type": "stream",
          "name": "stdout",
          "text": [
            "\n",
            "    The length of rectangle is: 3\n",
            "    The width of rectangle is: 4\n",
            "    The perimeter of rectangle is: 14\n",
            "    The area of rectangle is: 12\n",
            "    \n"
          ]
        }
      ]
    },
    {
      "cell_type": "markdown",
      "source": [
        "##`Q-2: Bank Class`\n",
        "\n",
        "1. Create a Python class called `BankAccount` which represents a bank account, having as attributes: `accountNumber` (numeric type), `name` (name of the account owner as string type), `balance`.\n",
        "2. Create a constructor with parameters: `accountNumber, name, balance`.\n",
        "3. Create a `Deposit()` method which manages the deposit actions.\n",
        "4. Create a `Withdrawal()` method  which manages withdrawals actions.\n",
        "5. Create an `bankFees()` method to apply the bank fees with a percentage of 5% of the balance account.\n",
        "6. Create a `display()` method to display account details.\n",
        "Give the complete code for the  BankAccount class."
      ],
      "metadata": {
        "id": "r_GxrS0Vrdom"
      }
    },
    {
      "cell_type": "markdown",
      "source": [
        "Eg.\n",
        "After making above classes and methods, on executing below code:-\n",
        "```\n",
        "newAccount = BankAccount(2178514584, \"Mandy\" , 2800)\n",
        "\n",
        "newAccount.Withdrawal(700)\n",
        "\n",
        "newAccount.Deposit(1000)\n",
        "\n",
        "newAccount.display()\n",
        "```\n",
        "\n",
        "`Output:`\n",
        "```\n",
        "Account Number :  2178514584\n",
        "Account Name :  Mandy\n",
        "Account Balance :  3100 ₹\n",
        "```"
      ],
      "metadata": {
        "id": "qvVkOUJgvTV_"
      }
    },
    {
      "cell_type": "code",
      "source": [
        "# write your code here\n",
        "class BankAccount:\n",
        "  # constructor\n",
        "  def __init__(self, accountNumber, name, balance):\n",
        "    self.__accountNumber = accountNumber\n",
        "    self.__name = name\n",
        "    self.__balance = balance\n",
        "\n",
        "  # methods\n",
        "  def Deposit(self, amount):\n",
        "    self.__balance += amount\n",
        "\n",
        "  def Withdrawal(self, amount):\n",
        "    if self.__balance < amount:\n",
        "      print(\"Insufficient funds\")\n",
        "      return\n",
        "    self.__balance -= amount\n",
        "\n",
        "  def bankFees(self):\n",
        "    amount = self.__balance * (0.05)\n",
        "    self.__balance -= amount\n",
        "\n",
        "  def display(self):\n",
        "    print(\"\"\"\n",
        "    Account Number : {}\n",
        "    Account Name : {}\n",
        "    Account Balance : {} ₹\n",
        "    \"\"\".format(self.__accountNumber, self.__name, self.__balance))"
      ],
      "metadata": {
        "id": "fUQOmQyA6YDR"
      },
      "execution_count": null,
      "outputs": []
    },
    {
      "cell_type": "code",
      "source": [
        "newAccount = BankAccount(2178514584, \"Mandy\" , 2800)\n",
        "\n",
        "newAccount.Withdrawal(700)\n",
        "\n",
        "newAccount.Deposit(1000)\n",
        "\n",
        "newAccount.display()"
      ],
      "metadata": {
        "colab": {
          "base_uri": "https://localhost:8080/"
        },
        "id": "4TQ9WT8XeN3c",
        "outputId": "cf1863d9-5a81-4f3d-c8fd-cabb50900b13"
      },
      "execution_count": null,
      "outputs": [
        {
          "output_type": "stream",
          "name": "stdout",
          "text": [
            "\n",
            "    Account Number : 2178514584\n",
            "    Account Name : Mandy\n",
            "    Account Balance : 3100 ₹\n",
            "    \n"
          ]
        }
      ]
    },
    {
      "cell_type": "markdown",
      "source": [
        "##`Q-3:Computation class`\n",
        "\n",
        "1. Create a `Computation` class with a default constructor (without parameters) allowing to perform various calculations on integers numbers.\n",
        "2. Create a method called `Factorial()` which allows to calculate the factorial of an integer n. Integer n as parameter for this method\n",
        "\n",
        "3. Create a method called `naturalSum()` allowing to calculate the sum of the first n integers 1 + 2 + 3 + .. + n. Integer n as parameter for this method.\n",
        "\n",
        "4. Create a method called `testPrime()` in  the Calculation class to test the primality of a given integer n, n is Prime or Not? Integer n as parameter for this method.\n",
        "\n",
        "5. Create  a method called `testPrims()` allowing to test if two numbers are prime between them. Two integers are prime to one another if they have only `1` as their common divisor. Eg. 4 and 9 are prime to each other.\n",
        "\n",
        "5. Create a `tableMult()` method which creates and displays the multiplication table of a given integer. Then create an `allTablesMult()` method to display all the integer multiplication tables 1, 2, 3, ..., 9.\n",
        "\n",
        "6. Create a static `listDiv()` method that gets all the divisors of a given integer on new list called  Ldiv. Create another `listDivPrim()` method that gets all the prime divisors of a given integer."
      ],
      "metadata": {
        "id": "QovcQAZTrgGU"
      }
    },
    {
      "cell_type": "code",
      "source": [
        "# write your code here\n",
        "import math\n",
        "class Computation:\n",
        "  # constructor\n",
        "  def __init__(self):\n",
        "    pass\n",
        "\n",
        "  # methods\n",
        "  def Factorial(self, n):\n",
        "    fact = 1\n",
        "    for i in range(1, n+1):\n",
        "      fact *= i\n",
        "    return fact\n",
        "\n",
        "  def naturalSum(self, n):\n",
        "    return n*(n+1)/2\n",
        "\n",
        "  def testPrime(self, n):\n",
        "    for i in range(2, n):\n",
        "      if n%i == 0:\n",
        "        return False\n",
        "    return True\n",
        "\n",
        "  def testPrims(self, a, b):\n",
        "    return math.gcd(a,b) == 1\n",
        "\n",
        "  def tableMult(self, n):\n",
        "    for i in range(1, 11):\n",
        "      print(i*n, end = ' ')\n",
        "    print()\n",
        "\n",
        "  def allTablesMult(self, n):\n",
        "    for i in range(1, n+1):\n",
        "      self.tableMult(i)\n",
        "\n",
        "  def listDiv(self, n):\n",
        "    Ldiv = []\n",
        "    for i in range(1, n+1):\n",
        "      if n%i == 0:\n",
        "        Ldiv.append(i)\n",
        "    return Ldiv\n",
        "\n",
        "  def listDivPrim(self, n):\n",
        "    Ldiv = []\n",
        "    for i in range(1, n+1):\n",
        "      if n%i == 0 and self.testPrime(i):\n",
        "        Ldiv.append(i)\n",
        "    return Ldiv"
      ],
      "metadata": {
        "id": "YEkPH70l6Z-o"
      },
      "execution_count": null,
      "outputs": []
    },
    {
      "cell_type": "code",
      "source": [
        "obj = Computation()\n",
        "print(obj.Factorial(3))\n",
        "print(obj.naturalSum(5))\n",
        "print(obj.testPrime(5))\n",
        "print(obj.testPrims(5, 10))\n",
        "print(obj.tableMult(5))\n",
        "print(obj.allTablesMult(5))\n",
        "print(obj.listDiv(18))\n",
        "print(obj.listDivPrim(18))"
      ],
      "metadata": {
        "id": "JQPODQIxOgA6",
        "colab": {
          "base_uri": "https://localhost:8080/"
        },
        "outputId": "3efaef6e-0df3-4889-dad8-48b3b8dd1a60"
      },
      "execution_count": null,
      "outputs": [
        {
          "output_type": "stream",
          "name": "stdout",
          "text": [
            "6\n",
            "15.0\n",
            "True\n",
            "False\n",
            "5 10 15 20 25 30 35 40 45 50 \n",
            "None\n",
            "1 2 3 4 5 6 7 8 9 10 \n",
            "2 4 6 8 10 12 14 16 18 20 \n",
            "3 6 9 12 15 18 21 24 27 30 \n",
            "4 8 12 16 20 24 28 32 36 40 \n",
            "5 10 15 20 25 30 35 40 45 50 \n",
            "None\n",
            "[1, 2, 3, 6, 9, 18]\n",
            "[1, 2, 3]\n"
          ]
        }
      ]
    },
    {
      "cell_type": "markdown",
      "source": [
        "##`Q-4`: Build flashcard using class in Python.\n",
        "\n",
        "Build a flashcard using class in python. A flashcard is a card having information on both sides, which can be used as an aid in memoization. Flashcards usually have a question on one side and an answer on the other.\n",
        "\n",
        "**Example 1:**\n",
        "\n",
        "Approach:\n",
        "\n",
        "- Create a class named FlashCard.\n",
        "- Initialize dictionary fruits using __init__() method. Here you have to define fruit name as key and it's color as value. E.g., {\"Banana\": \"yellow\", \"Strawberries\": \"pink\"}\n",
        "- Now randomly choose a pair from fruits by using _random_ module and store the key in variable _fruit_ and _value_ in variable color.\n",
        "- Now prompt the user to answer the color of the randomly chosen fruit.\n",
        "- If correct print correct else print wrong.\n",
        "\n",
        "Output:\n",
        "```bash\n",
        "welcome to fruit quiz\n",
        "What is the color of Strawberries\n",
        "pink\n",
        "Correct answer\n",
        "Enter 0, if you want to play again: 0\n",
        "What is the color of watermelon\n",
        "green\n",
        "Correct answer\n",
        "Enter 0, if you want to play again: 1\n",
        "```"
      ],
      "metadata": {
        "id": "0yn23_oEriXa"
      }
    },
    {
      "cell_type": "code",
      "source": [
        "# write your code here\n",
        "import random\n",
        "class FlashCard:\n",
        "  # constructor\n",
        "  def __init__(self):\n",
        "    print(\"welcome to fruit quiz\")\n",
        "    self.__d = {\"Strawberries\":\"pink\", \"watermelon\":\"green\", \"apple\":\"red\",\"banana\":\"yellow\", \"dragonfruit\":\"pink\", }\n",
        "    self.__guess()\n",
        "\n",
        "  # methods\n",
        "  def __guess(self):\n",
        "    key, value = random.choice(list(self.__d.items()))\n",
        "    color = input(\"What is the color of {} \".format(key))\n",
        "    if color == value:\n",
        "      print(\"Correct answer\")\n",
        "    else:\n",
        "      print(\"Wrong answer\")\n",
        "    ch = input(\"Enter 0, if you want to play again: \")\n",
        "    if ch == '0':\n",
        "      self.__guess()\n",
        "    else:\n",
        "      exit()"
      ],
      "metadata": {
        "id": "vCrUF6VU6l6w"
      },
      "execution_count": 1,
      "outputs": []
    },
    {
      "cell_type": "code",
      "source": [
        "obj = FlashCard()"
      ],
      "metadata": {
        "colab": {
          "base_uri": "https://localhost:8080/"
        },
        "id": "AFvKaASsHlup",
        "outputId": "2a2748f5-c5b3-4c2c-98b1-7799a1e0f1a6"
      },
      "execution_count": 2,
      "outputs": [
        {
          "name": "stdout",
          "output_type": "stream",
          "text": [
            "welcome to fruit quiz\n",
            "What is the color of apple red\n",
            "Correct answer\n",
            "Enter 0, if you want to play again: 0\n",
            "What is the color of Strawberries pink\n",
            "Correct answer\n",
            "Enter 0, if you want to play again: 0\n",
            "What is the color of banana pink\n",
            "Wrong answer\n",
            "Enter 0, if you want to play again: 0\n",
            "What is the color of banana yellow\n",
            "Correct answer\n",
            "Enter 0, if you want to play again: 2\n"
          ]
        }
      ]
    },
    {
      "cell_type": "markdown",
      "source": [
        "## `Q-5:` Problem 5 based on OOP Python.\n",
        "\n",
        "TechWorld, a technology training center, wants to allocate courses for instructors. An instructor is identified by name, technology skills, experience and average feedback. An instructor is allocated a course, if he/she satisfies the below two conditions:\n",
        "- eligibility criteria:\n",
        "    - if experience is more than 3 years, average feedback should be 4.5 or more\n",
        "    - if experience is 3 years or less, average feedback should be 4 or more\n",
        "- he/she should posses the technology skill for the course\n",
        "\n",
        "Identify the class name and attributes to represent instructors. Write a Python program to implement the class chosen with its attributes and methods.\n",
        "\n",
        "**Note:**\n",
        "- Consider all instance variables to be private and methods to be public.\n",
        "- An instructor may have multiple technology skills, so consider instance variable, technology_skill to be a list.\n",
        "- *check_eligibility()*: Return true if eligibility criteria is satisfied by the instructor. Else, return false\n",
        "- *allocate_course(technology)*: Return true if the course which requires the given technology can be allocated to the instructor. Else, return false.\n",
        "\n",
        "Represent a few objects of the class, initialize instance variables using setter methods, invoke\n",
        "appropriate methods and test your program."
      ],
      "metadata": {
        "id": "GN2r0jbRewYr"
      }
    },
    {
      "cell_type": "code",
      "source": [
        "# write your code here\n",
        "class Instructor:\n",
        "  def __init__(self, name, technology, experience, feedback):\n",
        "    self.__name = name\n",
        "    self.__technology = technology\n",
        "    self.__experience = experience\n",
        "    self.__feedback = feedback\n",
        "\n",
        "  def check_eligiblity(self):\n",
        "    if self.__experience > 3 and self.__feedback >= 4.5:\n",
        "      return True\n",
        "    if self.__experience <=2 and self.__feedback >= 4:\n",
        "      return True\n",
        "    return False\n",
        "\n",
        "  def allocate_course(self, technology):\n",
        "    if self.check_eligiblity():\n",
        "      if technology in self.__technology:\n",
        "        return True\n",
        "    return False"
      ],
      "metadata": {
        "id": "pdMFuVFnlvKL"
      },
      "execution_count": 1,
      "outputs": []
    },
    {
      "cell_type": "code",
      "source": [
        "ins = Instructor(\"nitish\", [\"Data Science\", \"Web development\"], 5, 4.9)\n",
        "ins.allocate_course(\"Android Development\")\n"
      ],
      "metadata": {
        "colab": {
          "base_uri": "https://localhost:8080/"
        },
        "id": "_iJhksjKKwuL",
        "outputId": "320c19df-3cfd-4e85-a130-59b9246ebebb"
      },
      "execution_count": 2,
      "outputs": [
        {
          "output_type": "execute_result",
          "data": {
            "text/plain": [
              "False"
            ]
          },
          "metadata": {},
          "execution_count": 2
        }
      ]
    }
  ]
}