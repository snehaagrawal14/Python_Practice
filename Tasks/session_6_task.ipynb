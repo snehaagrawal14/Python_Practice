{
  "nbformat": 4,
  "nbformat_minor": 0,
  "metadata": {
    "colab": {
      "provenance": [],
      "include_colab_link": true
    },
    "kernelspec": {
      "name": "python3",
      "display_name": "Python 3"
    },
    "language_info": {
      "name": "python"
    }
  },
  "cells": [
    {
      "cell_type": "markdown",
      "metadata": {
        "id": "view-in-github",
        "colab_type": "text"
      },
      "source": [
        "<a href=\"https://colab.research.google.com/github/snehaagrawal14/Python_Practice/blob/main/Tasks/session_6_task.ipynb\" target=\"_parent\"><img src=\"https://colab.research.google.com/assets/colab-badge.svg\" alt=\"Open In Colab\"/></a>"
      ]
    },
    {
      "cell_type": "markdown",
      "source": [
        "### **`Problem-1:`** Write a Python function that takes a list and returns a new list with unique elements of the first list.\n",
        "\n",
        "**Exercise 1:**\n",
        "\n",
        "Input:\n",
        "\n",
        "```bash\n",
        "[1,2,3,3,3,3,4,5]\n",
        "```\n",
        "\n",
        "Output:\n",
        "\n",
        "```bash\n",
        "[1, 2, 3, 4, 5]\n",
        "```"
      ],
      "metadata": {
        "id": "h6dDSW5XGZFi"
      }
    },
    {
      "cell_type": "code",
      "source": [
        "def unique(l):\n",
        "  return list(set(l))\n",
        "print(unique([1,2,3,3,3,3,4,5]))"
      ],
      "metadata": {
        "id": "R5pq1C9LGe1y",
        "outputId": "0d7d6716-a070-4690-c2a0-08af44ad9f78",
        "colab": {
          "base_uri": "https://localhost:8080/"
        }
      },
      "execution_count": null,
      "outputs": [
        {
          "output_type": "stream",
          "name": "stdout",
          "text": [
            "[1, 2, 3, 4, 5]\n"
          ]
        }
      ]
    },
    {
      "cell_type": "markdown",
      "source": [
        "### **`Problem-2:`** Write a Python function that accepts a hyphen-separated sequence of words as parameter and returns the words in a hyphen-separated sequence after sorting them alphabetically.\n",
        "\n",
        "**Example 1:**\n",
        "\n",
        "Input:\n",
        "```bash\n",
        "green-red-yellow-black-white\n",
        "```\n",
        "\n",
        "Output:\n",
        "```bash\n",
        "black-green-red-white-yellow\n",
        "```"
      ],
      "metadata": {
        "id": "UxQ_VoyJGwHj"
      }
    },
    {
      "cell_type": "code",
      "source": [
        "# Write code here\n",
        "def sort(s):\n",
        "  l = []\n",
        "  for i in s.split('-'):\n",
        "    l.append(i)\n",
        "  l.sort()\n",
        "  return \"-\".join(l)\n",
        "\n",
        "print(sort(\"green-red-yellow-black-white\"))"
      ],
      "metadata": {
        "id": "AAts2m5zGwiQ",
        "outputId": "0290a209-b4f5-4c3d-b0e1-d91ede097ace",
        "colab": {
          "base_uri": "https://localhost:8080/"
        }
      },
      "execution_count": null,
      "outputs": [
        {
          "output_type": "stream",
          "name": "stdout",
          "text": [
            "black-green-red-white-yellow\n"
          ]
        }
      ]
    },
    {
      "cell_type": "markdown",
      "source": [
        "### **`Problem 3:`** Write a Python function that accepts a string and calculate the number of upper case letters and lower case letters.\n",
        "\n",
        "```\n",
        "Sample String : 'CampusX is an Online Mentorship Program fOr EnginEering studentS.'\n",
        "Expected Output :\n",
        "No. of Upper case characters :  9\n",
        "No. of Lower case Characters :  47\n",
        "```"
      ],
      "metadata": {
        "id": "IRGH62S7Gx_n"
      }
    },
    {
      "cell_type": "code",
      "source": [
        "# Write code here\n",
        "def cases(s):\n",
        "  up = 0\n",
        "  low = 0\n",
        "  for i in s:\n",
        "    if i.isupper():\n",
        "      up += 1\n",
        "    elif i.islower():\n",
        "      low += 1\n",
        "  return (up, low)\n",
        "\n",
        "s = input(\"Enter string: \")\n",
        "up_case , low_case = cases(s)\n",
        "print(\"No. of Upper case characters : {}\".format(up_case))\n",
        "print(\"No. of Lower case characters : {}\".format(low_case))"
      ],
      "metadata": {
        "id": "OaUrD8vVG5o8",
        "outputId": "5f977576-18f5-4b16-cd05-59f034fe5710",
        "colab": {
          "base_uri": "https://localhost:8080/"
        }
      },
      "execution_count": null,
      "outputs": [
        {
          "output_type": "stream",
          "name": "stdout",
          "text": [
            "Enter string: CampusX is an Online Mentorship Program fOr EnginEering studentS.\n",
            "No. of Upper case characters : 9\n",
            "No. of Lower case characters : 47\n"
          ]
        }
      ]
    },
    {
      "cell_type": "markdown",
      "source": [
        "### **`Problem 4:`** Write a Python program to print the even numbers from a given list.\n",
        "```\n",
        "Sample List : [1, 2, 3, 4, 5, 6, 7, 8, 9]\n",
        "Expected Result : [2, 4, 6, 8]\n",
        "```"
      ],
      "metadata": {
        "id": "V1BFFdYQG7Sn"
      }
    },
    {
      "cell_type": "code",
      "source": [
        "# Write code here\n",
        "def even_no(l):\n",
        "  ans = []\n",
        "  for i in l:\n",
        "    if i%2==0:\n",
        "      ans.append(i)\n",
        "  return ans\n",
        "\n",
        "l = [1, 2, 3, 4, 5, 6, 7, 8, 9]\n",
        "print(even_no(l))"
      ],
      "metadata": {
        "id": "VvAReLoDG_Z3",
        "outputId": "cbae5e7b-d193-4932-c58c-3d989fb1016e",
        "colab": {
          "base_uri": "https://localhost:8080/"
        }
      },
      "execution_count": null,
      "outputs": [
        {
          "output_type": "stream",
          "name": "stdout",
          "text": [
            "[2, 4, 6, 8]\n"
          ]
        }
      ]
    },
    {
      "cell_type": "markdown",
      "source": [
        "### **`Problem 5:`** Write a Python function to check whether a number is perfect or not.\n",
        "\n",
        "A Perfect number is a number that is half the sum of all of its positive divisors (including itself).\n",
        "\n",
        "Example :\n",
        "\n",
        "```\n",
        "The first perfect number is 6, because 1, 2, and 3 are its proper positive divisors, and 1 + 2 + 3 = 6.\n",
        "Equivalently, the number 6 is equal to half the sum of all its positive divisors: ( 1 + 2 + 3 + 6 ) / 2 = 6.\n",
        "\n",
        "The next perfect number is 28 = 1 + 2 + 4 + 7 + 14. This is followed by the perfect numbers 496 and 8128.\n",
        "```\n"
      ],
      "metadata": {
        "id": "qrK39Gn-HHb4"
      }
    },
    {
      "cell_type": "code",
      "source": [
        "# Write code here\n",
        "def is_perfect(n):\n",
        "  sum = 0\n",
        "  for i in range(1, n):\n",
        "    if n%i == 0:\n",
        "      sum += i\n",
        "  if sum == n:\n",
        "    return True\n",
        "  else:\n",
        "    return False\n",
        "\n",
        "n = int(input(\"Enter n: \"))\n",
        "if is_perfect(n):\n",
        "  print(\"{} is a perfect number.\".format(n))\n",
        "else:\n",
        "  print(\"{} is not a perfect number.\".format(n))"
      ],
      "metadata": {
        "id": "P-OI7H78HICs",
        "outputId": "dcbaa825-2eb4-4ca3-ea26-3d8da7e284a8",
        "colab": {
          "base_uri": "https://localhost:8080/"
        }
      },
      "execution_count": null,
      "outputs": [
        {
          "output_type": "stream",
          "name": "stdout",
          "text": [
            "Enter n: 28\n",
            "28 is a perfect number.\n"
          ]
        }
      ]
    },
    {
      "cell_type": "markdown",
      "source": [
        "### **`Problem-6:`** Write a Python function to concatenate any no of dictionaries to create a new one.\n",
        "\n",
        "```\n",
        "Sample Dictionary :\n",
        "dic1={1:10, 2:20}\n",
        "dic2={3:30, 4:40}\n",
        "dic3={5:50,6:60}\n",
        "Expected Result : {1: 10, 2: 20, 3: 30, 4: 40, 5: 50, 6: 60}\n",
        "```"
      ],
      "metadata": {
        "id": "oZdpcG77HO-6"
      }
    },
    {
      "cell_type": "code",
      "source": [
        "# Write code here\n",
        "def merge_dict(*kwargs):\n",
        "  d = {}\n",
        "  for i in kwargs:\n",
        "    d.update(i)\n",
        "  return d\n",
        "\n",
        "dic1={1:10, 2:20}\n",
        "dic2={3:30, 4:40}\n",
        "dic3={5:50,6:60}\n",
        "print(merge_dict(dic1, dic2, dic3))"
      ],
      "metadata": {
        "id": "LQgfAY4ZHPhj",
        "outputId": "2a4c4b65-c9d4-4ba4-b09d-ded2f0c99c8a",
        "colab": {
          "base_uri": "https://localhost:8080/"
        }
      },
      "execution_count": 20,
      "outputs": [
        {
          "output_type": "stream",
          "name": "stdout",
          "text": [
            "{1: 10, 2: 20, 3: 30, 4: 40, 5: 50, 6: 60}\n"
          ]
        }
      ]
    },
    {
      "cell_type": "markdown",
      "source": [
        "`Problem-7` Write a python function that accepts a string as input and returns the word with most occurence.\n",
        "\n",
        "```\n",
        "Input:\n",
        "hello how are you i am fine thank you\n",
        "```\n",
        "\n",
        "```\n",
        "Output\n",
        "you -> 2\n",
        "```"
      ],
      "metadata": {
        "id": "jQ6SzbCkHRd0"
      }
    },
    {
      "cell_type": "code",
      "source": [
        "# Write code here\n",
        "def most_occured(s):\n",
        "  word = ''\n",
        "  counter = 0\n",
        "  lst = s.split()\n",
        "  for i in  lst:\n",
        "    if counter < lst.count(i):\n",
        "      counter = lst.count(i)\n",
        "      word = i\n",
        "  return word, counter\n",
        "\n",
        "s = \"hello how are you i am fine thank you\"\n",
        "word, counter = most_occured(s)\n",
        "print(word+\" -> \"+str(counter))"
      ],
      "metadata": {
        "id": "Lh04JHLzIW7Z",
        "outputId": "de740946-35c3-482c-938b-d48d2b97187b",
        "colab": {
          "base_uri": "https://localhost:8080/"
        }
      },
      "execution_count": 9,
      "outputs": [
        {
          "output_type": "stream",
          "name": "stdout",
          "text": [
            "you -> 2\n"
          ]
        }
      ]
    },
    {
      "cell_type": "markdown",
      "source": [
        "`Problem-8` Write a python function that receives a list of integers and prints out a histogram of bin size 10\n",
        "\n",
        "```\n",
        "Input:\n",
        "[13,42,15,37,22,39,41,50]\n",
        "```\n",
        "\n",
        "```\n",
        "Output:\n",
        "{11-20:2,21-30:1,31-40:2,41-50:3}\n",
        "```"
      ],
      "metadata": {
        "id": "1r8SpVntI-IW"
      }
    },
    {
      "cell_type": "code",
      "source": [
        "# Write code here\n",
        "import math\n",
        "def histogram(lst):\n",
        "  min_bin = math.floor(min(lst)/10)*10\n",
        "  max_bin = math.ceil(max(lst)/10)*10\n",
        "  d = {}\n",
        "  for i in range(min_bin, max_bin, 10):\n",
        "    count = 0\n",
        "    for j in lst:\n",
        "      if i+1 <= j <= i+10:\n",
        "        count += 1\n",
        "    d[str(i+1) + '-' + str(i+10)] = count\n",
        "  return d\n",
        "\n",
        "lst = [13,42,15,37,22,39,41,50]\n",
        "print(histogram(lst))"
      ],
      "metadata": {
        "id": "7W0J8rUjJovg",
        "outputId": "b099d164-eefc-47da-e259-1a53be08aee7",
        "colab": {
          "base_uri": "https://localhost:8080/"
        }
      },
      "execution_count": 21,
      "outputs": [
        {
          "output_type": "stream",
          "name": "stdout",
          "text": [
            "{'11-20': 2, '21-30': 1, '31-40': 2, '41-50': 3}\n"
          ]
        }
      ]
    },
    {
      "cell_type": "markdown",
      "source": [
        "`Problem-9` Write a python function that accepts a list of 2D co-ordinates and a query point, and then finds the the co-ordinate which is closest in terms of distance from the query point.\n",
        "\n",
        "```\n",
        "List of Coordinates\n",
        "[(1,1),(2,2),(3,3),(4,4)]\n",
        "Query Point\n",
        "(0,0)\n",
        "```\n",
        "\n",
        "```\n",
        "Output\n",
        "Nearest to (0,0) is (1,1)\n",
        "```"
      ],
      "metadata": {
        "id": "1P2-rbgXKE53"
      }
    },
    {
      "cell_type": "code",
      "source": [
        "# Write code here\n",
        "import sys\n",
        "def shortest(lst, point):\n",
        "  dis = sys.maxsize\n",
        "  result = None\n",
        "  for i in lst:\n",
        "    d = ((i[0]-point[0])**2 + (i[1]-point[1])**2)**0.5\n",
        "    if d < dis:\n",
        "      dis = d\n",
        "      result = i\n",
        "  return result\n",
        "\n",
        "lst = [(1,1),(2,2),(3,3),(4,4)]\n",
        "point = (0,0)\n",
        "result = shortest(lst, point)\n",
        "print(\"Nearest to\",point,\"is\",result)"
      ],
      "metadata": {
        "id": "zjn7vSTIJ81G",
        "outputId": "c49e31b9-5030-43c0-db75-653501671ac3",
        "colab": {
          "base_uri": "https://localhost:8080/"
        }
      },
      "execution_count": 19,
      "outputs": [
        {
          "output_type": "stream",
          "name": "stdout",
          "text": [
            "Nearest to (0, 0) is (1, 1)\n"
          ]
        }
      ]
    },
    {
      "cell_type": "markdown",
      "source": [
        "`Problem-10`:Write a python program that receives a list of strings and performs bag of word operation on those strings\n",
        "\n",
        "https://en.wikipedia.org/wiki/Bag-of-words_model"
      ],
      "metadata": {
        "id": "i-B6igmyK9hB"
      }
    },
    {
      "cell_type": "code",
      "source": [
        "# Write code here\n",
        "def bow(l):\n",
        "  vocab = set()\n",
        "  for i in l:\n",
        "    vocab.update(i.split())\n",
        "  result = []\n",
        "  for i in l:\n",
        "    result.append([])\n",
        "    for j in vocab:\n",
        "      result[-1].append(i.count(j))\n",
        "  return result\n",
        "\n",
        "l = [\n",
        "    'cat mat rat cat',\n",
        "    'sat bat fat cat rat',\n",
        "    'pat cat mat rat'\n",
        "]\n",
        "\n",
        "bow(l)"
      ],
      "metadata": {
        "id": "N2l1_AWULT-z",
        "outputId": "3e14d782-74a4-47f3-934b-5574959f89ac",
        "colab": {
          "base_uri": "https://localhost:8080/"
        }
      },
      "execution_count": 33,
      "outputs": [
        {
          "output_type": "execute_result",
          "data": {
            "text/plain": [
              "[[0, 1, 0, 0, 0, 2, 1], [0, 0, 1, 1, 1, 1, 1], [1, 1, 0, 0, 0, 1, 1]]"
            ]
          },
          "metadata": {},
          "execution_count": 33
        }
      ]
    },
    {
      "cell_type": "markdown",
      "source": [
        "###`Problem 11:` Write a Python program to add three given lists using Python map and lambda."
      ],
      "metadata": {
        "id": "dHTRKb-DqMLw"
      }
    },
    {
      "cell_type": "code",
      "source": [
        "# Write code here\n",
        "l1 = [1,2,3]\n",
        "l2 = [4,5,6]\n",
        "l3 = [7,8,9]\n",
        "\n",
        "list(map(lambda x,y,z:x+y+z,l1,l2,l3))"
      ],
      "metadata": {
        "id": "NfJdzyNZqNW-",
        "outputId": "dbf9f8ab-1cef-45b0-ad81-96fb4c5a6650",
        "colab": {
          "base_uri": "https://localhost:8080/"
        }
      },
      "execution_count": 30,
      "outputs": [
        {
          "output_type": "execute_result",
          "data": {
            "text/plain": [
              "[12, 15, 18]"
            ]
          },
          "metadata": {},
          "execution_count": 30
        }
      ]
    },
    {
      "cell_type": "markdown",
      "source": [
        "###`Problem-12:`Write a Python program to create a list containing the power of said number in bases raised to the corresponding number in the index using Python map.\n",
        "`Input:`\n",
        "```\n",
        "list1 = [1,2,3,4,5,6]\n",
        "```\n",
        "`Output:`\n",
        "```\n",
        "[1,2,9,64,625,-]\n",
        "```\n"
      ],
      "metadata": {
        "id": "MgHP7mbUqO8l"
      }
    },
    {
      "cell_type": "code",
      "source": [
        "# Write code here\n",
        "list1 = [1,2,3,4,5,6]\n",
        "list(map(lambda x,y:x**y,list1,range(len(list1))))"
      ],
      "metadata": {
        "id": "gG3Dc6N3qbvN",
        "outputId": "a1c1b5c1-d0e0-4a54-aaf4-150467495319",
        "colab": {
          "base_uri": "https://localhost:8080/"
        }
      },
      "execution_count": 27,
      "outputs": [
        {
          "output_type": "execute_result",
          "data": {
            "text/plain": [
              "[1, 2, 9, 64, 625, 7776]"
            ]
          },
          "metadata": {},
          "execution_count": 27
        }
      ]
    },
    {
      "cell_type": "markdown",
      "source": [
        "###`Problem-13` Using filter() and list() functions and .lower() method filter all the vowels in a given string.\n",
        "\n"
      ],
      "metadata": {
        "id": "G26SYq6vqdLN"
      }
    },
    {
      "cell_type": "code",
      "source": [
        "# Write code here\n",
        "str1 = \"FIFA world cup in 2022 will take place in Qatar\"\n",
        "\n",
        "list(filter(lambda x:True if x.lower() in 'aeiou' else False,str1))"
      ],
      "metadata": {
        "id": "zurga3DIqmEx",
        "outputId": "42a1f47b-2007-4b9e-8734-3ab718e9758c",
        "colab": {
          "base_uri": "https://localhost:8080/"
        }
      },
      "execution_count": 25,
      "outputs": [
        {
          "output_type": "execute_result",
          "data": {
            "text/plain": [
              "['I', 'A', 'o', 'u', 'i', 'i', 'a', 'e', 'a', 'e', 'i', 'a', 'a']"
            ]
          },
          "metadata": {},
          "execution_count": 25
        }
      ]
    },
    {
      "cell_type": "markdown",
      "source": [
        "`Problem-14`: Use reduce to convert a 2D list to 1D"
      ],
      "metadata": {
        "id": "uQrsunZSqoYu"
      }
    },
    {
      "cell_type": "code",
      "source": [
        "# Write code here\n",
        "ini_list = [[1,2,3],\n",
        "            [3,6,7],\n",
        "            [7,5,4]]\n",
        "\n",
        "import functools\n",
        "functools.reduce(lambda x,y:x+y,ini_list)"
      ],
      "metadata": {
        "id": "E1YUwnfgqnka",
        "outputId": "8bfb1a23-9530-49cf-c27b-7a50cd8a4324",
        "colab": {
          "base_uri": "https://localhost:8080/"
        }
      },
      "execution_count": 23,
      "outputs": [
        {
          "output_type": "execute_result",
          "data": {
            "text/plain": [
              "[1, 2, 3, 3, 6, 7, 7, 5, 4]"
            ]
          },
          "metadata": {},
          "execution_count": 23
        }
      ]
    },
    {
      "cell_type": "markdown",
      "source": [
        "`Problem 15`- A dictionary contains following information about 5 employees:\n",
        "- First name\n",
        "- Last name\n",
        "- Age\n",
        "- Grade(Skilled,Semi-skilled,Highly skilled)<br>\n",
        "Write a program using map/filter/reduce to a list of employees(first name + last name) who are highly skilled"
      ],
      "metadata": {
        "id": "8-DLQEawt-_t"
      }
    },
    {
      "cell_type": "code",
      "source": [
        "# Write code here\n",
        "employees = [\n",
        "    {\n",
        "        'fname':'Nitish',\n",
        "        'lname':'Singh',\n",
        "        'age' : 33,\n",
        "        'grade':'skilled'\n",
        "    },\n",
        "    {\n",
        "        'fname':'Ankit',\n",
        "        'lname':'Verma',\n",
        "        'age' : 34,\n",
        "        'grade':'semi-skilled'\n",
        "    },\n",
        "    {\n",
        "        'fname':'Neha',\n",
        "        'lname':'Singh',\n",
        "        'age' : 35,\n",
        "        'grade':'highly-skilled'\n",
        "    },\n",
        "    {\n",
        "        'fname':'Anurag',\n",
        "        'lname':'Kumar',\n",
        "        'age' : 30,\n",
        "        'grade':'skilled'\n",
        "    },\n",
        "    {\n",
        "        'fname':'Abhinav',\n",
        "        'lname':'Sharma',\n",
        "        'age' : 37,\n",
        "        'grade':'highly-skilled'\n",
        "    }\n",
        "\n",
        "]"
      ],
      "metadata": {
        "id": "OLvptttLs6OU"
      },
      "execution_count": null,
      "outputs": []
    },
    {
      "cell_type": "code",
      "source": [
        "list(map(lambda x:x['fname'] + ' ' + x['lname'],list(filter(lambda x:True if x['grade'] == 'highly-skilled' else False,employees))))"
      ],
      "metadata": {
        "id": "vLX0FAQkui3y",
        "colab": {
          "base_uri": "https://localhost:8080/"
        },
        "outputId": "e7d50543-c30e-4a20-c793-756f5a435df7"
      },
      "execution_count": null,
      "outputs": [
        {
          "output_type": "execute_result",
          "data": {
            "text/plain": [
              "['Neha Singh', 'Abhinav Sharma']"
            ]
          },
          "metadata": {},
          "execution_count": 17
        }
      ]
    },
    {
      "cell_type": "code",
      "source": [],
      "metadata": {
        "id": "ldMjGfkgAMr9"
      },
      "execution_count": null,
      "outputs": []
    }
  ]
}