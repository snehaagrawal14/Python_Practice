{
  "nbformat": 4,
  "nbformat_minor": 0,
  "metadata": {
    "colab": {
      "provenance": [],
      "include_colab_link": true
    },
    "kernelspec": {
      "name": "python3",
      "display_name": "Python 3"
    },
    "language_info": {
      "name": "python"
    }
  },
  "cells": [
    {
      "cell_type": "markdown",
      "metadata": {
        "id": "view-in-github",
        "colab_type": "text"
      },
      "source": [
        "<a href=\"https://colab.research.google.com/github/snehaagrawal14/Python_Practice/blob/main/Tasks/session11_task.ipynb\" target=\"_parent\"><img src=\"https://colab.research.google.com/assets/colab-badge.svg\" alt=\"Open In Colab\"/></a>"
      ]
    },
    {
      "cell_type": "markdown",
      "source": [
        "## Exception Handling\n"
      ],
      "metadata": {
        "id": "ajVfqio_GinI"
      }
    },
    {
      "cell_type": "markdown",
      "source": [
        "###`Q-1`: You are given a function definition. There might be several issues on execution of this function. You are asked to do exception handling for diffrent errors that this function goes in to `without altering this function`. And print error text.\n",
        "\n"
      ],
      "metadata": {
        "id": "0qnQkJtnGozz"
      }
    },
    {
      "cell_type": "markdown",
      "source": [
        "Function parameters `l -> list, s -> could be anything`\n",
        "\n",
        "```\n",
        "def function(l: list, s, **args):\n",
        "    last_element = l[-1]\n",
        "    \n",
        "    l[int(s)]=10\n",
        "    any_element = l[int(s)+10]\n",
        "    l[s]=10\n",
        "    \n",
        "    res = sum(l)\n",
        "    \n",
        "    p = args['p']\n",
        "    # print(p)\n",
        "    return res/last_element * p + any_element\n",
        "\n",
        "```\n",
        "Check for different function calls:-\n",
        "\n",
        "```\n",
        "function([1,2,1], 12)\n",
        "function([1,2,1]*9, '1-2')\n",
        "function([1,'2',1]*9, 12)\n",
        "function([1,'2',1]*9, 12)\n",
        "function([1,2,0]*9, 12  )\n",
        "function([1,2,1]*9, 12, p=None)\n",
        "function([1,2,0]*9, 12, p=10)\n",
        "```"
      ],
      "metadata": {
        "id": "2no_EB2fGyGq"
      }
    },
    {
      "cell_type": "code",
      "source": [
        "# Write code here\n",
        "def function(l: list, s, **args):\n",
        "  try:\n",
        "    last_element = l[-1]\n",
        "\n",
        "    l[int(s)]=10\n",
        "    any_element = l[int(s)+10]\n",
        "    l[s]=10\n",
        "\n",
        "    res = sum(l)\n",
        "\n",
        "    p = args['p']\n",
        "    print(p)\n",
        "    return res/last_element * p + any_element\n",
        "  except IndexError as e:\n",
        "    print(e)\n",
        "  except ZeroDivisionError as e:\n",
        "    print(e)\n",
        "  except ValueError as e:\n",
        "    print(e)\n",
        "  except TypeError as e:\n",
        "    print(e)\n",
        "  except KeyError as e:\n",
        "    print(e)\n",
        "  except Exception as e:\n",
        "    print(e)"
      ],
      "metadata": {
        "id": "VoaL4_9eGjFU"
      },
      "execution_count": null,
      "outputs": []
    },
    {
      "cell_type": "code",
      "source": [
        "function([1,2,1], 12)\n",
        "function([1,2,1]*9, '1-2')\n",
        "function([1,'2',1]*9, 12)\n",
        "function([1,'2',1]*9, 12)\n",
        "function([1,2,0]*9, 12  )\n",
        "function([1,2,1]*9, 12, p=None)\n",
        "function([1,2,0]*9, 12, p=10)"
      ],
      "metadata": {
        "id": "4n7IxT_ychWG",
        "outputId": "ab664722-e3ce-4925-e6c6-c02cf68d17bc",
        "colab": {
          "base_uri": "https://localhost:8080/"
        }
      },
      "execution_count": null,
      "outputs": [
        {
          "output_type": "stream",
          "name": "stdout",
          "text": [
            "list assignment index out of range\n",
            "invalid literal for int() with base 10: '1-2'\n",
            "unsupported operand type(s) for +: 'int' and 'str'\n",
            "unsupported operand type(s) for +: 'int' and 'str'\n",
            "'p'\n",
            "unsupported operand type(s) for *: 'float' and 'NoneType'\n",
            "division by zero\n"
          ]
        }
      ]
    },
    {
      "cell_type": "markdown",
      "source": [
        "###`Q-2:` You are given a code snippet. There might be several issues on execution of this code. You are asked to do exception handling for diffrent errors, condition is what ever happens we need to execute last line printing correct result of `sum of elements`.\n",
        "\n",
        "List have elemnts as any no of  `key-pair dict with key as list index and value as any integer`, `integers` and `numeric-strings`. There is always only one element in the dict.\n",
        "\n",
        "\n",
        "```\n",
        "l = [{0:2},2,3,4,'5', {5:10}]\n",
        "# For calculating sum of above list\n",
        "s=0\n",
        "for i in range(len(l)):\n",
        "    #You can Edit code from here\n",
        "    s += l[i].get(i)\n",
        "    s += l[i]\n",
        "    s += int(l[i])\n",
        "\n",
        "\n",
        "print(s)\n",
        "```"
      ],
      "metadata": {
        "id": "HuLMy2fVG9sL"
      }
    },
    {
      "cell_type": "code",
      "source": [
        "# Write code here\n",
        "try:\n",
        "  l = [{0:2},2,3,4,'5', {5:10}]\n",
        "  # For calculating sum of above list\n",
        "  s=0\n",
        "  for i in range(len(l)):\n",
        "      #You can Edit code from here\n",
        "      s += l[i].get(i)\n",
        "      s += l[i]\n",
        "      s += int(l[i])\n",
        "except TypeError as e:\n",
        "  print(e)\n",
        "finally:\n",
        "  print(s)"
      ],
      "metadata": {
        "id": "pEP8JU0qHAf8",
        "outputId": "48257afa-4454-4343-9a8d-b66ebb26c795",
        "colab": {
          "base_uri": "https://localhost:8080/"
        }
      },
      "execution_count": null,
      "outputs": [
        {
          "output_type": "stream",
          "name": "stdout",
          "text": [
            "unsupported operand type(s) for +=: 'int' and 'dict'\n",
            "2\n"
          ]
        }
      ]
    },
    {
      "cell_type": "markdown",
      "source": [
        "### `Q-3:`: File Handling with Exception handling\n",
        "\n",
        "Write a program that opens a text file and write data to it as \"Hello, Good Morning!!!\". Handle exceptions that can be generated during the I/O operations. Do not show the success message on the main exception handling block (write inside the else block)."
      ],
      "metadata": {
        "id": "ohE2fDTXHIan"
      }
    },
    {
      "cell_type": "code",
      "source": [
        "# write code here\n",
        "try:\n",
        "  with open(\"q3.txt\", \"w\") as f:\n",
        "    f.writelines(\"Hello, Good Morning!!!\")\n",
        "except:\n",
        "  print(\"Cann't open file!\")\n",
        "else:\n",
        "  print(\"Succesfully edited!\")"
      ],
      "metadata": {
        "id": "iOeiWrcIHPlY",
        "outputId": "9173e362-0a2c-4051-f2e9-4cff576ae8be",
        "colab": {
          "base_uri": "https://localhost:8080/"
        }
      },
      "execution_count": null,
      "outputs": [
        {
          "output_type": "stream",
          "name": "stdout",
          "text": [
            "Succesfully edited!\n"
          ]
        }
      ]
    },
    {
      "cell_type": "markdown",
      "source": [
        "### `Q-4`: Number game program.\n",
        "\n",
        "Write a number game program. Ask the user to enter a number. If the number is greater than number to be guessed, raise a **ValueTooLarge** exception. If the value is smaller the number to be guessed the, raise a **ValueTooSmall** exception and prompt the user to enter again. Quit the program only when the user enters the correct number. Also raise **GuessError** if user guess a number less than 1."
      ],
      "metadata": {
        "id": "ru8g8-_bHTUf"
      }
    },
    {
      "cell_type": "code",
      "source": [
        "# Write code here\n",
        "import random\n",
        "\n",
        "class ValueTooLarge(Exception):\n",
        "    def display(self):\n",
        "        print(\"Input value is too large\")\n",
        "\n",
        "class ValueTooSmall(Exception):\n",
        "    def display(self):\n",
        "        print(\"Input value is too small\")\n",
        "\n",
        "class GuessError(Exception):\n",
        "    def display(self):\n",
        "        print(\"Guess the number between 1 and 100\")\n",
        "\n",
        "num = random.randint(1, 100)\n",
        "while 1:\n",
        "    try:\n",
        "        guess = int(input(\"Enter a number:\"))\n",
        "\n",
        "        if guess < 1:\n",
        "            raise GuessError\n",
        "\n",
        "        if guess == num:\n",
        "            print(\"Great You succeeded...\")\n",
        "            break\n",
        "        if guess < num:\n",
        "            raise ValueTooSmall\n",
        "        if guess > num:\n",
        "            raise ValueTooLarge\n",
        "    except ValueTooSmall as s:\n",
        "        s.display()\n",
        "    except ValueTooLarge as l:\n",
        "        l.display()\n",
        "    except GuessError as g:\n",
        "        g.display()\n"
      ],
      "metadata": {
        "id": "QftlN5LJHZSX",
        "outputId": "a79966d4-0de1-4ff7-f849-ba25871f181f",
        "colab": {
          "base_uri": "https://localhost:8080/"
        }
      },
      "execution_count": null,
      "outputs": [
        {
          "output_type": "stream",
          "name": "stdout",
          "text": [
            "Enter a number:1\n",
            "Input value is too small\n",
            "Enter a number:0\n",
            "Guess the number between 1 and 100\n",
            "Enter a number:5\n",
            "Input value is too small\n",
            "Enter a number:8\n",
            "Input value is too small\n",
            "Enter a number:10\n",
            "Input value is too small\n",
            "Enter a number:100\n",
            "Input value is too large\n",
            "Enter a number:50\n",
            "Input value is too large\n",
            "Enter a number:40\n",
            "Input value is too large\n",
            "Enter a number:30\n",
            "Input value is too small\n",
            "Enter a number:20\n",
            "Input value is too small\n",
            "Enter a number:35\n",
            "Input value is too large\n",
            "Enter a number:32\n",
            "Input value is too small\n",
            "Enter a number:34\n",
            "Great You succeeded...\n"
          ]
        }
      ]
    },
    {
      "cell_type": "markdown",
      "source": [
        "### `Q-5:` Cast vote\n",
        "\n",
        "Write a program that validate name and age as entered by the user to determine whether the person can cast vote or not. To handle the age, create **InvalidAge** exception and for name, create **InvalidName** exception. The name will be invalid when the string will be empty or name has only one word.\n",
        "\n",
        "Example 1:\n",
        "\n",
        "Input:\n",
        "\n",
        "```bash\n",
        "Enter the name:               goransh singh\n",
        "Enter the age: 25\n",
        "```\n",
        "\n",
        "Output:\n",
        "\n",
        "```bash\n",
        "Goransh Singh  Congratulation !!! You can vote.\n",
        "```"
      ],
      "metadata": {
        "id": "ZsGI_40fHcsd"
      }
    },
    {
      "cell_type": "code",
      "source": [
        "# Write code here\n",
        "class InvalidAge(Exception):\n",
        "  def display(self):\n",
        "    print(\"Sorry!! Age cannot be below 18. Please come after that\")\n",
        "\n",
        "class InvalidName(Exception):\n",
        "  def display(self):\n",
        "    print(\"Please enter a valid name...\")\n",
        "\n",
        "try:\n",
        "  name = input(\"Enter the name: \")\n",
        "  if len(name.split())<2 or len(name)==0:\n",
        "    raise InvalidName\n",
        "  age = int(input(\"Enter the age: \"))\n",
        "  if age < 18:\n",
        "    raise InvalidAge\n",
        "except InvalidAge as e:\n",
        "  e.display()\n",
        "except InvalidName as e:\n",
        "  e.display()\n",
        "else:\n",
        "    print(\"Congratulation !!! You can vote.\")\n",
        "finally:\n",
        "    print(\"Thank You\")"
      ],
      "metadata": {
        "id": "OHL3UiS4Hi3U",
        "outputId": "9736a53c-f6d6-459e-e2fe-48125acaf880",
        "colab": {
          "base_uri": "https://localhost:8080/"
        }
      },
      "execution_count": 6,
      "outputs": [
        {
          "output_type": "stream",
          "name": "stdout",
          "text": [
            "Enter the name: Sneha Agrawal\n",
            "Enter the age: 20\n",
            "Congratulation !!! You can vote.\n",
            "Thank You\n"
          ]
        }
      ]
    },
    {
      "cell_type": "markdown",
      "source": [
        "### `Q-6`: Write a python function which infinitely prints natural numbers in a single line. Raise the **StopIteration** exception after displaying first 20 numbers to exit from the program."
      ],
      "metadata": {
        "id": "SCvs0QjgHlOG"
      }
    },
    {
      "cell_type": "code",
      "source": [
        "# Write code here\n",
        "def display(n):\n",
        "    i=0\n",
        "    while True:\n",
        "        try:\n",
        "            n+=1\n",
        "            i+=1\n",
        "            if i==21:\n",
        "                raise StopIteration\n",
        "        except StopIteration:\n",
        "            break\n",
        "        else:\n",
        "            print(n, end =' ')\n",
        "display(100)"
      ],
      "metadata": {
        "id": "Lc5ilNgNHoSx",
        "outputId": "a9748630-ccc8-45af-8408-13109cd447ab",
        "colab": {
          "base_uri": "https://localhost:8080/"
        }
      },
      "execution_count": 7,
      "outputs": [
        {
          "output_type": "stream",
          "name": "stdout",
          "text": [
            "101 102 103 104 105 106 107 108 109 110 111 112 113 114 115 116 117 118 119 120 "
          ]
        }
      ]
    }
  ]
}