{
  "nbformat": 4,
  "nbformat_minor": 0,
  "metadata": {
    "colab": {
      "provenance": [],
      "include_colab_link": true
    },
    "kernelspec": {
      "name": "python3",
      "display_name": "Python 3"
    },
    "language_info": {
      "name": "python"
    }
  },
  "cells": [
    {
      "cell_type": "markdown",
      "metadata": {
        "id": "view-in-github",
        "colab_type": "text"
      },
      "source": [
        "<a href=\"https://colab.research.google.com/github/snehaagrawal14/Python_Practice/blob/main/Tasks/session_1_tasks.ipynb\" target=\"_parent\"><img src=\"https://colab.research.google.com/assets/colab-badge.svg\" alt=\"Open In Colab\"/></a>"
      ]
    },
    {
      "cell_type": "markdown",
      "source": [
        "# Task : Session 1\n",
        "Solve these questions on your own and try to test yourself what you have learned in the session.\n",
        "\n",
        "Happy Learning!"
      ],
      "metadata": {
        "id": "A05OG15VqOPF"
      }
    },
    {
      "cell_type": "markdown",
      "source": [
        "### Q1 :- Print the given strings as per stated format.\n",
        "\n",
        "**Given strings**:\n",
        "```\n",
        "\"Data\" \"Science\" \"Mentorship\" \"Program\"\n",
        "\"By\" \"CampusX\"\n",
        "```\n",
        "**Output**:\n",
        "```\n",
        "Data-Science-Mentorship-Program-started-By-CampusX\n",
        "```\n",
        "\n",
        "Concept- [Seperator and End]"
      ],
      "metadata": {
        "id": "2doIXf8bqe9_"
      }
    },
    {
      "cell_type": "code",
      "source": [
        "# Write your code here\n",
        "print(\"Data\",\"Science\",\"Mentorship\",\"Program\", sep = '-', end='-started-')\n",
        "print(\"By\", \"CampusX\", sep = '-')"
      ],
      "metadata": {
        "id": "-em6d3KErDtp",
        "outputId": "b22bf615-773c-4abc-80d7-fec04d45838a",
        "colab": {
          "base_uri": "https://localhost:8080/"
        }
      },
      "execution_count": 2,
      "outputs": [
        {
          "output_type": "stream",
          "name": "stdout",
          "text": [
            "Data-Science-Mentorship-Program-started-By-CampusX\n"
          ]
        }
      ]
    },
    {
      "cell_type": "markdown",
      "source": [
        "### Q2:- Write a program that will convert celsius value to fahrenheit."
      ],
      "metadata": {
        "id": "1KUpN7ZTrC3_"
      }
    },
    {
      "cell_type": "code",
      "source": [
        "# Write your code here\n",
        "c = float(input(\"Enter celsius value: \"))\n",
        "f = (9/5 * c) + 32\n",
        "print(\"{}°C = {}°F\".format(c,f))"
      ],
      "metadata": {
        "id": "yxKYhYQiqWfj",
        "colab": {
          "base_uri": "https://localhost:8080/"
        },
        "outputId": "90ae15bd-ecda-4d56-d809-4bb361acb6fa"
      },
      "execution_count": null,
      "outputs": [
        {
          "output_type": "stream",
          "name": "stdout",
          "text": [
            "Enter celsius value: 80\n",
            "80.0°C = 176.0°F\n"
          ]
        }
      ]
    },
    {
      "cell_type": "markdown",
      "source": [
        "### Q3:- Take 2 numbers as input from the user.Write a program to swap the numbers without using any special python syntax."
      ],
      "metadata": {
        "id": "RLrOBBJurLB2"
      }
    },
    {
      "cell_type": "code",
      "source": [
        "# Write your code here\n",
        "a = int(input(\"Enter a: \"))\n",
        "b = int(input(\"Enter b: \"))\n",
        "print(\"Before swapping:\\na: {}, b: {}\".format(a,b))\n",
        "c = a\n",
        "a = b\n",
        "b = c\n",
        "print(\"After swapping:\\na: {}, b: {}\".format(a,b))"
      ],
      "metadata": {
        "id": "yPn7if0TrJ4F",
        "colab": {
          "base_uri": "https://localhost:8080/"
        },
        "outputId": "5ebaf997-a045-4229-b2c5-304e2fbb54ce"
      },
      "execution_count": null,
      "outputs": [
        {
          "output_type": "stream",
          "name": "stdout",
          "text": [
            "Enter a: 2\n",
            "Enter b: 3\n",
            "Before swapping:\n",
            "a: 2, b: 3\n",
            "After swapping:\n",
            "a: 3, b: 2\n"
          ]
        }
      ]
    },
    {
      "cell_type": "markdown",
      "source": [
        "### Q4:- Write a program to find the euclidean distance between two coordinates.Take both the coordinates from the user as input."
      ],
      "metadata": {
        "id": "waLCP1bjr7ML"
      }
    },
    {
      "cell_type": "code",
      "source": [
        "# Write your code here\n",
        "import math\n",
        "c1 = input(\"Enter coordinate 1 as x,y: \")\n",
        "c2 = input(\"Enter coordinate 2 as x,y: \")\n",
        "x1, y1 = tuple(c1.split(','))\n",
        "x2, y2 = tuple(c2.split(','))\n",
        "x1, x2, y1, y2 = int(x1), int(x2), int(y1), int(y2)\n",
        "d = math.sqrt((x2-x1)**2 + (y2-y1)**2)\n",
        "print(\"Distance between ({},{}) and ({},{}) is: {}\".format(x1,y1,x2,y2,round(d,2)))"
      ],
      "metadata": {
        "id": "Pl1Sv-xnrxnH",
        "colab": {
          "base_uri": "https://localhost:8080/"
        },
        "outputId": "b2904598-4446-4f70-b5c3-d3629ec66e78"
      },
      "execution_count": 6,
      "outputs": [
        {
          "output_type": "stream",
          "name": "stdout",
          "text": [
            "Enter coordinate 1 as x,y: 0,0\n",
            "Enter coordinate 2 as x,y: 2,2\n",
            "Distance between (0,0) and (2,2) is: 2.83\n"
          ]
        }
      ]
    },
    {
      "cell_type": "markdown",
      "source": [
        "### Q5:- Write a program to find the simple interest when the value of principle,rate of interest and time period is provided by the user.\n"
      ],
      "metadata": {
        "id": "VLrhg-FRsHjR"
      }
    },
    {
      "cell_type": "code",
      "source": [
        "# Write your code here\n",
        "P = float(input(\"Enter Principal Amount: \"))\n",
        "R = float(input(\"Enter Rate of Interest: \"))\n",
        "T = float(input(\"Enter Time Period: \"))\n",
        "SI = (P*R*T)/100\n",
        "print(\"Simple Interest is: {}\".format(SI))"
      ],
      "metadata": {
        "id": "s40DlReZsTmY",
        "colab": {
          "base_uri": "https://localhost:8080/"
        },
        "outputId": "8205e96a-9b1b-4c84-ebf1-91e2ed7cd1c3"
      },
      "execution_count": null,
      "outputs": [
        {
          "output_type": "stream",
          "name": "stdout",
          "text": [
            "Enter Principal Amount: 2000\n",
            "Enter Rate of Interest: 5\n",
            "Enter Time Period: 2\n",
            "Simple Interest is: 200.0\n"
          ]
        }
      ]
    },
    {
      "cell_type": "markdown",
      "source": [
        "### Q6:- Write a program that will tell the number of dogs and chicken are there when the user will provide the value of total heads and legs.\n",
        "\n",
        "For example:\n",
        "Input:\n",
        "heads -> 4\n",
        "legs -> 12\n",
        "<br>\n",
        "Output:\n",
        "dogs -> 2\n",
        "chicken -> 2\n",
        "\n",
        "\n",
        "\n"
      ],
      "metadata": {
        "id": "LMy0BTUktYKa"
      }
    },
    {
      "cell_type": "code",
      "source": [
        "# Write your code here\n",
        "# c + d = h\n",
        "# c*2 + d*4 = l\n",
        "# c + d*2 = l/2\n",
        "# h - d + d*2 = l/2\n",
        "# h + d = l/2\n",
        "# d = l/2 - h\n",
        "# c = h - d\n",
        "heads = int(input(\"Enter number of heads: \"))\n",
        "legs = int(input(\"Enter number of legs: \"))\n",
        "dogs = legs//2 - heads\n",
        "chicken = heads - dogs\n",
        "print(\"Dogs: {}\\nchicken: {}\".format(dogs, chicken))"
      ],
      "metadata": {
        "id": "XSBvJoA4tXaG",
        "colab": {
          "base_uri": "https://localhost:8080/"
        },
        "outputId": "de7adad7-4ea9-4e7f-acb6-8d9860f29159"
      },
      "execution_count": null,
      "outputs": [
        {
          "output_type": "stream",
          "name": "stdout",
          "text": [
            "Enter number of heads: 4\n",
            "Enter number of legs: 12\n",
            "Dogs: 2\n",
            "chicken: 2\n"
          ]
        }
      ]
    },
    {
      "cell_type": "markdown",
      "source": [
        "### Q7:- Write a program to find the sum of squares of first n natural numbers where n will be provided by the user."
      ],
      "metadata": {
        "id": "gJ7C5kZYt4BP"
      }
    },
    {
      "cell_type": "code",
      "source": [
        "# Write your code here\n",
        "n = int(input(\"Enter n: \"))\n",
        "sum = (n*(n+1)*(2*n+1)) // 6\n",
        "print(\"Sum of Squares of {} natural numbers is: {}\". format(n, sum))"
      ],
      "metadata": {
        "id": "_tHsmEHzt2nX",
        "colab": {
          "base_uri": "https://localhost:8080/"
        },
        "outputId": "1f61ca97-a1ea-4c6b-bc48-9e21b25e6965"
      },
      "execution_count": null,
      "outputs": [
        {
          "output_type": "stream",
          "name": "stdout",
          "text": [
            "Enter n: 10\n",
            "Sum of Squares of 10 natural numbers is: 385\n"
          ]
        }
      ]
    },
    {
      "cell_type": "markdown",
      "source": [
        "### Q8:- Given the first 2 terms of an Arithmetic Series.Find the Nth term of the series. Assume all inputs are provided by the user."
      ],
      "metadata": {
        "id": "FHrMM7g-yG1h"
      }
    },
    {
      "cell_type": "code",
      "source": [
        "# Write your code here\n",
        "a1 = int(input(\"Enter first term of Arithmetic Series: \"))\n",
        "a2 = int(input(\"Enter second term of Arithmetic Series: \"))\n",
        "n = int(input(\"Enter n: \"))\n",
        "d = a2-a1\n",
        "an = a1+(n-1)*d\n",
        "print(\"Nth term of series is: {}\". format(an))"
      ],
      "metadata": {
        "id": "go4_kmZmyVSx",
        "colab": {
          "base_uri": "https://localhost:8080/"
        },
        "outputId": "2901957d-d669-4db5-d64b-cf9368b609b5"
      },
      "execution_count": null,
      "outputs": [
        {
          "output_type": "stream",
          "name": "stdout",
          "text": [
            "Enter first term of Arithmetic Series: 2\n",
            "Enter second term of Arithmetic Series: 4\n",
            "Enter n: 10\n",
            "Nth term of series is: 20\n"
          ]
        }
      ]
    },
    {
      "cell_type": "markdown",
      "source": [
        "### Q9:- Given 2 fractions, find the sum of those 2 fractions.Take the numerator and denominator values of the fractions from the user."
      ],
      "metadata": {
        "id": "QgyRX_es1oum"
      }
    },
    {
      "cell_type": "code",
      "source": [
        "# Write your code here\n",
        "f1 = input(\"Enter fraction 1: \")\n",
        "f2 = input(\"Enter fraction 2: \")\n",
        "n1, d1 = tuple(f1.split('/'))\n",
        "n2, d2 = tuple(f2.split('/'))\n",
        "n1, d1 = int(n1), int(d1)\n",
        "n2, d2 = int(n2), int(d2)\n",
        "n = 0\n",
        "d = 0\n",
        "if d1 == d2:\n",
        "  n = n1+n2\n",
        "  d = d1\n",
        "else:\n",
        "  d = d1*d2\n",
        "  n = n1*d2 + n2*d1\n",
        "hcf = math.gcd(d, n)\n",
        "d = d//hcf\n",
        "n = n//hcf\n",
        "print(\"The sum of both fractions is: {}/{}\". format(n, d))"
      ],
      "metadata": {
        "id": "X05xqFS1yW16",
        "colab": {
          "base_uri": "https://localhost:8080/"
        },
        "outputId": "bd536d54-b365-4ae6-bd91-8235d656274c"
      },
      "execution_count": null,
      "outputs": [
        {
          "output_type": "stream",
          "name": "stdout",
          "text": [
            "Enter fraction 1: 1/5\n",
            "Enter fraction 2: 2/3\n",
            "The sum of both fractions is: 13/15\n"
          ]
        }
      ]
    },
    {
      "cell_type": "markdown",
      "source": [
        "### Q10:- Given the height, width and breadth of a milk tank, you have to find out how many glasses of milk can be obtained? Assume all the inputs are provided by the user.\n",
        "\n",
        "\n",
        "\n",
        "Input:<br>\n",
        "Dimensions of the milk tank<br>\n",
        "H = 20cm, L = 20cm, B = 20cm\n",
        "<br><br>\n",
        "Dimensions of the glass<br>\n",
        "h = 3cm, r = 1cm"
      ],
      "metadata": {
        "id": "eaql38ln13u7"
      }
    },
    {
      "cell_type": "code",
      "source": [
        "# Write your code here\n",
        "import math\n",
        "H = int(input(\"Enter height of milk tank(in cm): \"))\n",
        "L = int(input(\"Enter length of milk tank(in cm): \"))\n",
        "B = int(input(\"Enter breadth of milk tank(in cm): \"))\n",
        "h = int(input(\"Enter height of milk tank(in cm): \"))\n",
        "r = int(input(\"Enter radius of milk tank(in cm): \"))\n",
        "V = L*B*H\n",
        "v = (math.pi)*r*r*h\n",
        "print(\"Number of glasses that can be obtained from milk tank are : {}\".format(V/v))"
      ],
      "metadata": {
        "id": "FePZqno74eWv",
        "colab": {
          "base_uri": "https://localhost:8080/"
        },
        "outputId": "c5101b61-7094-4f74-93f2-26173f673e68"
      },
      "execution_count": null,
      "outputs": [
        {
          "output_type": "stream",
          "name": "stdout",
          "text": [
            "Enter height of milk tank(in cm): 20\n",
            "Enter length of milk tank(in cm): 20\n",
            "Enter breadth of milk tank(in cm): 20\n",
            "Enter height of milk tank(in cm): 3\n",
            "Enter radius of milk tank(in cm): 1\n",
            "Number of glasses that can be obtained from milk tank are : 848.8263631567752\n"
          ]
        }
      ]
    }
  ]
}